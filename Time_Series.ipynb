{
 "cells": [
  {
   "cell_type": "code",
   "execution_count": null,
   "id": "5d6ab36e",
   "metadata": {},
   "outputs": [],
   "source": [
    "from prophet import Prophet\n",
    "import pandas as pd\n",
    "import matplotlib.pyplot as plt\n",
    "\n",
    "df['Date'] = pd.to_datetime(df['Date'])\n",
    "\n",
    "\n",
    "traffic_data_hourly = df.groupby(pd.Grouper(key='Date', freq='H')).agg({\n",
    "    'Vehicle_count': 'mean', \n",
    "    'Average_time_to_cross_junction': 'mean', \n",
    "    'Number_of_signals': 'mean'\n",
    "}).reset_index()\n",
    "\n",
    "traffic_data_hourly.rename(columns={'Date': 'ds', 'Vehicle_count': 'y'}, inplace=True)\n",
    "\n",
    "model = Prophet()\n",
    "\n",
    "\n",
    "model.fit(traffic_data_hourly)\n",
    "\n",
    "\n",
    "def plot_between_dates(start_date, end_date):\n",
    "    future = model.make_future_dataframe(periods=30*24, freq='H')  \n",
    "    \n",
    "\n",
    "    forecast = model.predict(future)\n",
    "    \n",
    "\n",
    "    start_date = pd.to_datetime(start_date)\n",
    "    end_date = pd.to_datetime(end_date)\n",
    "    \n",
    "\n",
    "    mask = (forecast['ds'] >= start_date) & (forecast['ds'] <= end_date)\n",
    "    filtered_forecast = forecast[mask]\n",
    "\n",
    "    if filtered_forecast.empty:\n",
    "        print(f\"No data available between {start_date} and {end_date}\")\n",
    "        return\n",
    "\n",
    "\n",
    "    plt.figure(figsize=(10, 6))\n",
    "    plt.plot(filtered_forecast['ds'], filtered_forecast['yhat'], label='Predicted Vehicle Count', color='blue')\n",
    "    plt.fill_between(filtered_forecast['ds'], filtered_forecast['yhat_lower'], filtered_forecast['yhat_upper'], color='lightblue', label='Confidence Interval')\n",
    "    plt.title(f\"Vehicle Count Forecast from {start_date.date()} to {end_date.date()}\")\n",
    "    plt.xlabel(\"Date\")\n",
    "    plt.ylabel(\"Vehicle Count\")\n",
    "    plt.legend()\n",
    "    plt.grid(True)\n",
    "    plt.show()\n",
    "\n"
   ]
  },
  {
   "cell_type": "code",
   "execution_count": null,
   "id": "82cd3b49",
   "metadata": {},
   "outputs": [],
   "source": [
    "start_date = '2023-8-01'  \n",
    "end_date = '2023-8-30'\n",
    "plot_between_dates(start_date, end_date)\n"
   ]
  }
 ],
 "metadata": {
  "kernelspec": {
   "display_name": "Python 3 (ipykernel)",
   "language": "python",
   "name": "python3"
  },
  "language_info": {
   "codemirror_mode": {
    "name": "ipython",
    "version": 3
   },
   "file_extension": ".py",
   "mimetype": "text/x-python",
   "name": "python",
   "nbconvert_exporter": "python",
   "pygments_lexer": "ipython3",
   "version": "3.11.7"
  }
 },
 "nbformat": 4,
 "nbformat_minor": 5
}
