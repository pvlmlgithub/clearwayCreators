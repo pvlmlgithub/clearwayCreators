{
 "cells": [
  {
   "cell_type": "code",
   "execution_count": null,
   "id": "d9d74b09",
   "metadata": {},
   "outputs": [],
   "source": [
    "import pandas as pd\n",
    "import numpy as np\n",
    "from sklearn.model_selection import train_test_split\n",
    "from sklearn.ensemble import RandomForestRegressor\n",
    "from sklearn.metrics import mean_squared_error, r2_score\n",
    "import pickle\n",
    "from datetime import datetime\n",
    "\n",
    "\n",
    "\n",
    "df['Date'] = pd.to_datetime(df['Date'])\n",
    "\n",
    "features = pd.get_dummies(df[['Day_of_week', 'Number_of_signals', 'Average_speed', 'Vehicle_count', 'Average_time_per_signal']], \n",
    "                          columns=['Day_of_week'], drop_first=False)\n",
    "target = df['Time_to_reach']  \n",
    "\n",
    "X_train, X_test, y_train, y_test = train_test_split(features, target, test_size=0.2, random_state=42)\n",
    "\n",
    "model = RandomForestRegressor(n_estimators=100, random_state=42)\n",
    "model.fit(X_train, y_train)\n",
    "\n",
    "y_pred = model.predict(X_test)\n",
    "mse = mean_squared_error(y_test, y_pred)\n",
    "r2 = r2_score(y_test, y_pred)\n",
    "\n",
    "\n",
    "with open('traffic_model.pkl', 'wb') as f:\n",
    "    pickle.dump(model, f)\n",
    "\n"
   ]
  },
  {
   "cell_type": "code",
   "execution_count": null,
   "id": "9e5e6523",
   "metadata": {},
   "outputs": [],
   "source": [
    "import pandas as pd\n",
    "import numpy as np\n",
    "import pickle\n",
    "from datetime import datetime\n",
    "\n",
    "with open('traffic_model.pkl', 'rb') as f:\n",
    "    loaded_model = pickle.load(f)\n",
    "\n",
    "def prepare_features(source, destination, date, time):\n",
    "    day_of_week = date.strftime('%A')\n",
    "    \n",
    "    number_of_signals = df[(df['Source'] == source) & (df['Destination'] == destination)]['Number_of_signals'].mean()\n",
    "    average_speed = df[(df['Source'] == source) & (df['Destination'] == destination)]['Average_speed'].mean()\n",
    "    vehicle_count = df[(df['Source'] == source) & (df['Destination'] == destination)]['Vehicle_count'].mean()\n",
    "    average_time_per_signal = df[(df['Source'] == source) & (df['Destination'] == destination)]['Average_time_per_signal'].mean()\n",
    "    \n",
    "    features = {\n",
    "        'Number_of_signals': number_of_signals,\n",
    "        'Average_speed': average_speed,\n",
    "        'Vehicle_count': vehicle_count,\n",
    "        'Average_time_per_signal': average_time_per_signal\n",
    "    }\n",
    "    \n",
    "    for day in ['Monday', 'Tuesday', 'Wednesday', 'Thursday', 'Friday', 'Saturday', 'Sunday']:\n",
    "        features['Day_of_week_' + day] = 1 if day == day_of_week else 0\n",
    "    \n",
    "    features_df = pd.DataFrame([features])\n",
    "    \n",
    "    return features_df\n",
    "\n",
    "def predict_time(source, destination, date, time):\n",
    "    features_df = prepare_features(source, destination, date, time)\n",
    "    \n",
    "    predicted_time = loaded_model.predict(features_df)\n",
    "    \n",
    "    return predicted_time[0]\n",
    "\n"
   ]
  }
 ],
 "metadata": {
  "kernelspec": {
   "display_name": "Python 3 (ipykernel)",
   "language": "python",
   "name": "python3"
  },
  "language_info": {
   "codemirror_mode": {
    "name": "ipython",
    "version": 3
   },
   "file_extension": ".py",
   "mimetype": "text/x-python",
   "name": "python",
   "nbconvert_exporter": "python",
   "pygments_lexer": "ipython3",
   "version": "3.11.7"
  }
 },
 "nbformat": 4,
 "nbformat_minor": 5
}
